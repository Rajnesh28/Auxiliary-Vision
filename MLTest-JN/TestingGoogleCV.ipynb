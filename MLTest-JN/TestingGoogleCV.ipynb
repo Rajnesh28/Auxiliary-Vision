{
 "cells": [
  {
   "cell_type": "code",
   "execution_count": 19,
   "id": "a3dc8381",
   "metadata": {},
   "outputs": [],
   "source": [
    "import os\n",
    "import io"
   ]
  },
  {
   "cell_type": "markdown",
   "id": "911b051d",
   "metadata": {},
   "source": [
    "from google.cloud import vision"
   ]
  },
  {
   "cell_type": "code",
   "execution_count": 3,
   "id": "e7f0226a",
   "metadata": {},
   "outputs": [],
   "source": [
    "os.environ['GOOGLE_APPLICATION_CREDENTIALS'] = 'stormhacks2022-341808-d6fa85e1221a.json'"
   ]
  },
  {
   "cell_type": "code",
   "execution_count": 17,
   "id": "ee5762ce",
   "metadata": {},
   "outputs": [],
   "source": [
    "client = vision.ImageAnnotatorClient()"
   ]
  },
  {
   "cell_type": "code",
   "execution_count": 25,
   "id": "19cc4c42",
   "metadata": {},
   "outputs": [],
   "source": [
    "file_name = os.path.relpath('istanbul_street.jpg')"
   ]
  },
  {
   "cell_type": "code",
   "execution_count": 27,
   "id": "daeab088",
   "metadata": {},
   "outputs": [],
   "source": [
    "with io.open(file_name, 'rb') as image_file:\n",
    "    content = image_file.read()"
   ]
  },
  {
   "cell_type": "code",
   "execution_count": 28,
   "id": "2484200c",
   "metadata": {},
   "outputs": [],
   "source": [
    "image = vision.Image(content=content)"
   ]
  },
  {
   "cell_type": "code",
   "execution_count": 30,
   "id": "ac1e715d",
   "metadata": {},
   "outputs": [],
   "source": [
    "response = client.label_detection(image=image)\n",
    "labels = response.label_annotations"
   ]
  },
  {
   "cell_type": "code",
   "execution_count": 31,
   "id": "ac3bc531",
   "metadata": {},
   "outputs": [
    {
     "name": "stdout",
     "output_type": "stream",
     "text": [
      "Labels: \n"
     ]
    }
   ],
   "source": [
    "print('Labels: ')"
   ]
  },
  {
   "cell_type": "code",
   "execution_count": 33,
   "id": "4ca21b9f",
   "metadata": {},
   "outputs": [
    {
     "name": "stdout",
     "output_type": "stream",
     "text": [
      "Clothing\n",
      "Footwear\n",
      "Jeans\n",
      "Trousers\n",
      "Sky\n",
      "Building\n",
      "Leg\n",
      "Infrastructure\n",
      "Street fashion\n",
      "Travel\n"
     ]
    }
   ],
   "source": [
    "for label in labels:\n",
    "    print(label.description)"
   ]
  },
  {
   "cell_type": "code",
   "execution_count": null,
   "id": "56e0fc89",
   "metadata": {},
   "outputs": [],
   "source": []
  }
 ],
 "metadata": {
  "kernelspec": {
   "display_name": "Python 3 (ipykernel)",
   "language": "python",
   "name": "python3"
  },
  "language_info": {
   "codemirror_mode": {
    "name": "ipython",
    "version": 3
   },
   "file_extension": ".py",
   "mimetype": "text/x-python",
   "name": "python",
   "nbconvert_exporter": "python",
   "pygments_lexer": "ipython3",
   "version": "3.10.1"
  }
 },
 "nbformat": 4,
 "nbformat_minor": 5
}
